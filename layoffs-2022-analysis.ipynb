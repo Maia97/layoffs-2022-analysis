{
 "cells": [
  {
   "cell_type": "code",
   "execution_count": null,
   "id": "f1d3b5b3",
   "metadata": {
    "papermill": {
     "duration": 0.004628,
     "end_time": "2023-02-13T14:17:47.888461",
     "exception": false,
     "start_time": "2023-02-13T14:17:47.883833",
     "status": "completed"
    },
    "tags": []
   },
   "outputs": [],
   "source": []
  },
  {
   "cell_type": "code",
   "execution_count": null,
   "id": "193b8482",
   "metadata": {
    "papermill": {
     "duration": 0.003015,
     "end_time": "2023-02-13T14:17:47.894949",
     "exception": false,
     "start_time": "2023-02-13T14:17:47.891934",
     "status": "completed"
    },
    "tags": []
   },
   "outputs": [],
   "source": []
  },
  {
   "cell_type": "code",
   "execution_count": 1,
   "id": "0b0b212b",
   "metadata": {
    "_cell_guid": "b1076dfc-b9ad-4769-8c92-a6c4dae69d19",
    "_uuid": "8f2839f25d086af736a60e9eeb907d3b93b6e0e5",
    "execution": {
     "iopub.execute_input": "2023-02-13T14:17:47.903767Z",
     "iopub.status.busy": "2023-02-13T14:17:47.903091Z",
     "iopub.status.idle": "2023-02-13T14:17:47.927250Z",
     "shell.execute_reply": "2023-02-13T14:17:47.926043Z"
    },
    "papermill": {
     "duration": 0.031855,
     "end_time": "2023-02-13T14:17:47.929967",
     "exception": false,
     "start_time": "2023-02-13T14:17:47.898112",
     "status": "completed"
    },
    "tags": []
   },
   "outputs": [
    {
     "name": "stdout",
     "output_type": "stream",
     "text": [
      "/kaggle/input/layoffs-2022/layoffs.csv\n"
     ]
    }
   ],
   "source": [
    "# This Python 3 environment comes with many helpful analytics libraries installed\n",
    "# It is defined by the kaggle/python Docker image: https://github.com/kaggle/docker-python\n",
    "# For example, here's several helpful packages to load\n",
    "\n",
    "import numpy as np # linear algebra\n",
    "import pandas as pd # data processing, CSV file I/O (e.g. pd.read_csv)\n",
    "\n",
    "# Input data files are available in the read-only \"../input/\" directory\n",
    "# For example, running this (by clicking run or pressing Shift+Enter) will list all files under the input directory\n",
    "\n",
    "import os\n",
    "for dirname, _, filenames in os.walk('/kaggle/input'):\n",
    "    for filename in filenames:\n",
    "        print(os.path.join(dirname, filename))\n",
    "\n",
    "# You can write up to 20GB to the current directory (/kaggle/working/) that gets preserved as output when you create a version using \"Save & Run All\" \n",
    "# You can also write temporary files to /kaggle/temp/, but they won't be saved outside of the current session"
   ]
  },
  {
   "cell_type": "code",
   "execution_count": 2,
   "id": "5ac9bef0",
   "metadata": {
    "execution": {
     "iopub.execute_input": "2023-02-13T14:17:47.939064Z",
     "iopub.status.busy": "2023-02-13T14:17:47.937858Z",
     "iopub.status.idle": "2023-02-13T14:17:47.988932Z",
     "shell.execute_reply": "2023-02-13T14:17:47.987656Z"
    },
    "papermill": {
     "duration": 0.058068,
     "end_time": "2023-02-13T14:17:47.991440",
     "exception": false,
     "start_time": "2023-02-13T14:17:47.933372",
     "status": "completed"
    },
    "tags": []
   },
   "outputs": [
    {
     "name": "stdout",
     "output_type": "stream",
     "text": [
      "<class 'pandas.core.frame.DataFrame'>\n",
      "RangeIndex: 2225 entries, 0 to 2224\n",
      "Data columns (total 9 columns):\n",
      " #   Column               Non-Null Count  Dtype  \n",
      "---  ------               --------------  -----  \n",
      " 0   company              2225 non-null   object \n",
      " 1   location             2225 non-null   object \n",
      " 2   industry             2224 non-null   object \n",
      " 3   total_laid_off       1530 non-null   float64\n",
      " 4   percentage_laid_off  1498 non-null   float64\n",
      " 5   date                 2225 non-null   object \n",
      " 6   stage                2219 non-null   object \n",
      " 7   country              2225 non-null   object \n",
      " 8   funds_raised         2030 non-null   float64\n",
      "dtypes: float64(3), object(6)\n",
      "memory usage: 156.6+ KB\n"
     ]
    }
   ],
   "source": [
    "df = pd.read_csv('/kaggle/input/layoffs-2022/layoffs.csv')\n",
    "df.info()"
   ]
  },
  {
   "cell_type": "code",
   "execution_count": 3,
   "id": "ed4f718d",
   "metadata": {
    "execution": {
     "iopub.execute_input": "2023-02-13T14:17:48.000297Z",
     "iopub.status.busy": "2023-02-13T14:17:47.999420Z",
     "iopub.status.idle": "2023-02-13T14:17:48.021996Z",
     "shell.execute_reply": "2023-02-13T14:17:48.020901Z"
    },
    "papermill": {
     "duration": 0.029708,
     "end_time": "2023-02-13T14:17:48.024764",
     "exception": false,
     "start_time": "2023-02-13T14:17:47.995056",
     "status": "completed"
    },
    "tags": []
   },
   "outputs": [
    {
     "data": {
      "text/html": [
       "<div>\n",
       "<style scoped>\n",
       "    .dataframe tbody tr th:only-of-type {\n",
       "        vertical-align: middle;\n",
       "    }\n",
       "\n",
       "    .dataframe tbody tr th {\n",
       "        vertical-align: top;\n",
       "    }\n",
       "\n",
       "    .dataframe thead th {\n",
       "        text-align: right;\n",
       "    }\n",
       "</style>\n",
       "<table border=\"1\" class=\"dataframe\">\n",
       "  <thead>\n",
       "    <tr style=\"text-align: right;\">\n",
       "      <th></th>\n",
       "      <th>company</th>\n",
       "      <th>location</th>\n",
       "      <th>industry</th>\n",
       "      <th>total_laid_off</th>\n",
       "      <th>percentage_laid_off</th>\n",
       "      <th>date</th>\n",
       "      <th>stage</th>\n",
       "      <th>country</th>\n",
       "      <th>funds_raised</th>\n",
       "    </tr>\n",
       "  </thead>\n",
       "  <tbody>\n",
       "    <tr>\n",
       "      <th>0</th>\n",
       "      <td>TikTok India</td>\n",
       "      <td>Mumbai</td>\n",
       "      <td>Consumer</td>\n",
       "      <td>40.0</td>\n",
       "      <td>NaN</td>\n",
       "      <td>2023-02-10</td>\n",
       "      <td>Acquired</td>\n",
       "      <td>India</td>\n",
       "      <td>9400.0</td>\n",
       "    </tr>\n",
       "    <tr>\n",
       "      <th>1</th>\n",
       "      <td>Rigetti Computing</td>\n",
       "      <td>SF Bay Area</td>\n",
       "      <td>Hardware</td>\n",
       "      <td>NaN</td>\n",
       "      <td>0.28</td>\n",
       "      <td>2023-02-10</td>\n",
       "      <td>Post-IPO</td>\n",
       "      <td>United States</td>\n",
       "      <td>298.0</td>\n",
       "    </tr>\n",
       "    <tr>\n",
       "      <th>2</th>\n",
       "      <td>Yahoo</td>\n",
       "      <td>SF Bay Area</td>\n",
       "      <td>Consumer</td>\n",
       "      <td>1600.0</td>\n",
       "      <td>0.20</td>\n",
       "      <td>2023-02-09</td>\n",
       "      <td>Acquired</td>\n",
       "      <td>United States</td>\n",
       "      <td>6.0</td>\n",
       "    </tr>\n",
       "    <tr>\n",
       "      <th>3</th>\n",
       "      <td>Deliveroo</td>\n",
       "      <td>London</td>\n",
       "      <td>Food</td>\n",
       "      <td>350.0</td>\n",
       "      <td>NaN</td>\n",
       "      <td>2023-02-09</td>\n",
       "      <td>Post-IPO</td>\n",
       "      <td>United Kingdom</td>\n",
       "      <td>1700.0</td>\n",
       "    </tr>\n",
       "    <tr>\n",
       "      <th>4</th>\n",
       "      <td>Olive AI</td>\n",
       "      <td>Columbus</td>\n",
       "      <td>Healthcare</td>\n",
       "      <td>215.0</td>\n",
       "      <td>0.35</td>\n",
       "      <td>2023-02-09</td>\n",
       "      <td>Series H</td>\n",
       "      <td>United States</td>\n",
       "      <td>856.0</td>\n",
       "    </tr>\n",
       "  </tbody>\n",
       "</table>\n",
       "</div>"
      ],
      "text/plain": [
       "             company     location    industry  total_laid_off  \\\n",
       "0       TikTok India       Mumbai    Consumer            40.0   \n",
       "1  Rigetti Computing  SF Bay Area    Hardware             NaN   \n",
       "2              Yahoo  SF Bay Area    Consumer          1600.0   \n",
       "3          Deliveroo       London        Food           350.0   \n",
       "4           Olive AI     Columbus  Healthcare           215.0   \n",
       "\n",
       "   percentage_laid_off        date     stage         country  funds_raised  \n",
       "0                  NaN  2023-02-10  Acquired           India        9400.0  \n",
       "1                 0.28  2023-02-10  Post-IPO   United States         298.0  \n",
       "2                 0.20  2023-02-09  Acquired   United States           6.0  \n",
       "3                  NaN  2023-02-09  Post-IPO  United Kingdom        1700.0  \n",
       "4                 0.35  2023-02-09  Series H   United States         856.0  "
      ]
     },
     "execution_count": 3,
     "metadata": {},
     "output_type": "execute_result"
    }
   ],
   "source": [
    "df.head()"
   ]
  },
  {
   "cell_type": "code",
   "execution_count": 4,
   "id": "8877402e",
   "metadata": {
    "execution": {
     "iopub.execute_input": "2023-02-13T14:17:48.034558Z",
     "iopub.status.busy": "2023-02-13T14:17:48.033643Z",
     "iopub.status.idle": "2023-02-13T14:17:48.044183Z",
     "shell.execute_reply": "2023-02-13T14:17:48.042975Z"
    },
    "papermill": {
     "duration": 0.017848,
     "end_time": "2023-02-13T14:17:48.046476",
     "exception": false,
     "start_time": "2023-02-13T14:17:48.028628",
     "status": "completed"
    },
    "tags": []
   },
   "outputs": [
    {
     "data": {
      "text/plain": [
       "United States     1456\n",
       "India              140\n",
       "Canada              99\n",
       "United Kingdom      71\n",
       "Brazil              70\n",
       "Germany             65\n",
       "Israel              52\n",
       "Australia           47\n",
       "Singapore           32\n",
       "Indonesia           23\n",
       "Name: country, dtype: int64"
      ]
     },
     "execution_count": 4,
     "metadata": {},
     "output_type": "execute_result"
    }
   ],
   "source": [
    "# top 10 countries which the layoffs companies in\n",
    "df.country.value_counts()[:10]"
   ]
  },
  {
   "cell_type": "code",
   "execution_count": 5,
   "id": "3ebe3402",
   "metadata": {
    "execution": {
     "iopub.execute_input": "2023-02-13T14:17:48.056505Z",
     "iopub.status.busy": "2023-02-13T14:17:48.056059Z",
     "iopub.status.idle": "2023-02-13T14:17:48.066457Z",
     "shell.execute_reply": "2023-02-13T14:17:48.065403Z"
    },
    "papermill": {
     "duration": 0.018235,
     "end_time": "2023-02-13T14:17:48.068641",
     "exception": false,
     "start_time": "2023-02-13T14:17:48.050406",
     "status": "completed"
    },
    "tags": []
   },
   "outputs": [
    {
     "data": {
      "text/plain": [
       "(1456, 9)"
      ]
     },
     "execution_count": 5,
     "metadata": {},
     "output_type": "execute_result"
    }
   ],
   "source": [
    "# keep only companies in US\n",
    "df = df[df.country == 'United States']\n",
    "df.shape"
   ]
  },
  {
   "cell_type": "code",
   "execution_count": 6,
   "id": "c624de08",
   "metadata": {
    "execution": {
     "iopub.execute_input": "2023-02-13T14:17:48.078389Z",
     "iopub.status.busy": "2023-02-13T14:17:48.077957Z",
     "iopub.status.idle": "2023-02-13T14:17:48.088820Z",
     "shell.execute_reply": "2023-02-13T14:17:48.087593Z"
    },
    "papermill": {
     "duration": 0.018537,
     "end_time": "2023-02-13T14:17:48.091283",
     "exception": false,
     "start_time": "2023-02-13T14:17:48.072746",
     "status": "completed"
    },
    "tags": []
   },
   "outputs": [
    {
     "data": {
      "text/plain": [
       "company                  0\n",
       "location                 0\n",
       "industry                 1\n",
       "total_laid_off         485\n",
       "percentage_laid_off    475\n",
       "date                     0\n",
       "stage                    4\n",
       "country                  0\n",
       "funds_raised           108\n",
       "dtype: int64"
      ]
     },
     "execution_count": 6,
     "metadata": {},
     "output_type": "execute_result"
    }
   ],
   "source": [
    "# check NaN values\n",
    "df.isnull().sum()"
   ]
  },
  {
   "cell_type": "code",
   "execution_count": 7,
   "id": "503532d5",
   "metadata": {
    "execution": {
     "iopub.execute_input": "2023-02-13T14:17:48.101479Z",
     "iopub.status.busy": "2023-02-13T14:17:48.101047Z",
     "iopub.status.idle": "2023-02-13T14:17:48.111367Z",
     "shell.execute_reply": "2023-02-13T14:17:48.110384Z"
    },
    "papermill": {
     "duration": 0.017986,
     "end_time": "2023-02-13T14:17:48.113507",
     "exception": false,
     "start_time": "2023-02-13T14:17:48.095521",
     "status": "completed"
    },
    "tags": []
   },
   "outputs": [
    {
     "data": {
      "text/plain": [
       "(1451, 9)"
      ]
     },
     "execution_count": 7,
     "metadata": {},
     "output_type": "execute_result"
    }
   ],
   "source": [
    "# drop rows missing industry and stage data\n",
    "df = df[df.industry.notna() & df.stage.notna()]\n",
    "df.shape"
   ]
  },
  {
   "cell_type": "code",
   "execution_count": null,
   "id": "e5c66045",
   "metadata": {
    "papermill": {
     "duration": 0.006842,
     "end_time": "2023-02-13T14:17:48.125147",
     "exception": false,
     "start_time": "2023-02-13T14:17:48.118305",
     "status": "completed"
    },
    "tags": []
   },
   "outputs": [],
   "source": []
  }
 ],
 "metadata": {
  "kernelspec": {
   "display_name": "Python 3",
   "language": "python",
   "name": "python3"
  },
  "language_info": {
   "codemirror_mode": {
    "name": "ipython",
    "version": 3
   },
   "file_extension": ".py",
   "mimetype": "text/x-python",
   "name": "python",
   "nbconvert_exporter": "python",
   "pygments_lexer": "ipython3",
   "version": "3.7.12"
  },
  "papermill": {
   "default_parameters": {},
   "duration": 9.78671,
   "end_time": "2023-02-13T14:17:48.953306",
   "environment_variables": {},
   "exception": null,
   "input_path": "__notebook__.ipynb",
   "output_path": "__notebook__.ipynb",
   "parameters": {},
   "start_time": "2023-02-13T14:17:39.166596",
   "version": "2.3.4"
  }
 },
 "nbformat": 4,
 "nbformat_minor": 5
}
