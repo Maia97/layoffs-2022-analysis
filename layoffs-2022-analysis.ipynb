{
 "cells": [
  {
   "cell_type": "code",
   "execution_count": 1,
   "id": "9fd182f6",
   "metadata": {
    "execution": {
     "iopub.execute_input": "2023-05-01T21:48:46.997156Z",
     "iopub.status.busy": "2023-05-01T21:48:46.996144Z",
     "iopub.status.idle": "2023-05-01T21:48:47.003441Z",
     "shell.execute_reply": "2023-05-01T21:48:47.002055Z"
    },
    "papermill": {
     "duration": 0.021079,
     "end_time": "2023-05-01T21:48:47.006830",
     "exception": false,
     "start_time": "2023-05-01T21:48:46.985751",
     "status": "completed"
    },
    "tags": []
   },
   "outputs": [],
   "source": [
    "## Layoff Analysis"
   ]
  },
  {
   "cell_type": "code",
   "execution_count": 2,
   "id": "46cb67ca",
   "metadata": {
    "execution": {
     "iopub.execute_input": "2023-05-01T21:48:47.022170Z",
     "iopub.status.busy": "2023-05-01T21:48:47.021740Z",
     "iopub.status.idle": "2023-05-01T21:48:48.169506Z",
     "shell.execute_reply": "2023-05-01T21:48:48.168269Z"
    },
    "papermill": {
     "duration": 1.158619,
     "end_time": "2023-05-01T21:48:48.172414",
     "exception": false,
     "start_time": "2023-05-01T21:48:47.013795",
     "status": "completed"
    },
    "tags": []
   },
   "outputs": [],
   "source": [
    "import matplotlib.pyplot as plt \n",
    "import seaborn as sns\n",
    "sns.set_style(\"darkgrid\")"
   ]
  },
  {
   "cell_type": "code",
   "execution_count": 3,
   "id": "7ce69cf4",
   "metadata": {
    "_cell_guid": "b1076dfc-b9ad-4769-8c92-a6c4dae69d19",
    "_uuid": "8f2839f25d086af736a60e9eeb907d3b93b6e0e5",
    "execution": {
     "iopub.execute_input": "2023-05-01T21:48:48.188381Z",
     "iopub.status.busy": "2023-05-01T21:48:48.187920Z",
     "iopub.status.idle": "2023-05-01T21:48:48.201405Z",
     "shell.execute_reply": "2023-05-01T21:48:48.200092Z"
    },
    "papermill": {
     "duration": 0.024836,
     "end_time": "2023-05-01T21:48:48.204546",
     "exception": false,
     "start_time": "2023-05-01T21:48:48.179710",
     "status": "completed"
    },
    "tags": []
   },
   "outputs": [
    {
     "name": "stdout",
     "output_type": "stream",
     "text": [
      "/kaggle/input/layoffs-2022/layoffs.csv\n"
     ]
    }
   ],
   "source": [
    "# This Python 3 environment comes with many helpful analytics libraries installed\n",
    "# It is defined by the kaggle/python Docker image: https://github.com/kaggle/docker-python\n",
    "# For example, here's several helpful packages to load\n",
    "\n",
    "import numpy as np # linear algebra\n",
    "import pandas as pd # data processing, CSV file I/O (e.g. pd.read_csv)\n",
    "\n",
    "# Input data files are available in the read-only \"../input/\" directory\n",
    "# For example, running this (by clicking run or pressing Shift+Enter) will list all files under the input directory\n",
    "\n",
    "import os\n",
    "for dirname, _, filenames in os.walk('/kaggle/input'):\n",
    "    for filename in filenames:\n",
    "        print(os.path.join(dirname, filename))\n",
    "\n",
    "# You can write up to 20GB to the current directory (/kaggle/working/) that gets preserved as output when you create a version using \"Save & Run All\" \n",
    "# You can also write temporary files to /kaggle/temp/, but they won't be saved outside of the current session"
   ]
  },
  {
   "cell_type": "code",
   "execution_count": 4,
   "id": "579decb9",
   "metadata": {
    "execution": {
     "iopub.execute_input": "2023-05-01T21:48:48.219907Z",
     "iopub.status.busy": "2023-05-01T21:48:48.219467Z",
     "iopub.status.idle": "2023-05-01T21:48:48.268407Z",
     "shell.execute_reply": "2023-05-01T21:48:48.266415Z"
    },
    "papermill": {
     "duration": 0.05992,
     "end_time": "2023-05-01T21:48:48.271358",
     "exception": false,
     "start_time": "2023-05-01T21:48:48.211438",
     "status": "completed"
    },
    "tags": []
   },
   "outputs": [
    {
     "name": "stdout",
     "output_type": "stream",
     "text": [
      "<class 'pandas.core.frame.DataFrame'>\n",
      "RangeIndex: 2545 entries, 0 to 2544\n",
      "Data columns (total 9 columns):\n",
      " #   Column               Non-Null Count  Dtype  \n",
      "---  ------               --------------  -----  \n",
      " 0   company              2545 non-null   object \n",
      " 1   location             2545 non-null   object \n",
      " 2   industry             2543 non-null   object \n",
      " 3   total_laid_off       1746 non-null   float64\n",
      " 4   percentage_laid_off  1694 non-null   float64\n",
      " 5   date                 2543 non-null   object \n",
      " 6   stage                2539 non-null   object \n",
      " 7   country              2545 non-null   object \n",
      " 8   funds_raised         2297 non-null   float64\n",
      "dtypes: float64(3), object(6)\n",
      "memory usage: 179.1+ KB\n"
     ]
    }
   ],
   "source": [
    "df = pd.read_csv('/kaggle/input/layoffs-2022/layoffs.csv')\n",
    "df.info()"
   ]
  },
  {
   "cell_type": "code",
   "execution_count": 5,
   "id": "008930c4",
   "metadata": {
    "execution": {
     "iopub.execute_input": "2023-05-01T21:48:48.287275Z",
     "iopub.status.busy": "2023-05-01T21:48:48.286807Z",
     "iopub.status.idle": "2023-05-01T21:48:48.310069Z",
     "shell.execute_reply": "2023-05-01T21:48:48.308674Z"
    },
    "papermill": {
     "duration": 0.034484,
     "end_time": "2023-05-01T21:48:48.312594",
     "exception": false,
     "start_time": "2023-05-01T21:48:48.278110",
     "status": "completed"
    },
    "tags": []
   },
   "outputs": [
    {
     "data": {
      "text/html": [
       "<div>\n",
       "<style scoped>\n",
       "    .dataframe tbody tr th:only-of-type {\n",
       "        vertical-align: middle;\n",
       "    }\n",
       "\n",
       "    .dataframe tbody tr th {\n",
       "        vertical-align: top;\n",
       "    }\n",
       "\n",
       "    .dataframe thead th {\n",
       "        text-align: right;\n",
       "    }\n",
       "</style>\n",
       "<table border=\"1\" class=\"dataframe\">\n",
       "  <thead>\n",
       "    <tr style=\"text-align: right;\">\n",
       "      <th></th>\n",
       "      <th>company</th>\n",
       "      <th>location</th>\n",
       "      <th>industry</th>\n",
       "      <th>total_laid_off</th>\n",
       "      <th>percentage_laid_off</th>\n",
       "      <th>date</th>\n",
       "      <th>stage</th>\n",
       "      <th>country</th>\n",
       "      <th>funds_raised</th>\n",
       "    </tr>\n",
       "  </thead>\n",
       "  <tbody>\n",
       "    <tr>\n",
       "      <th>0</th>\n",
       "      <td>N26</td>\n",
       "      <td>Berlin</td>\n",
       "      <td>Finance</td>\n",
       "      <td>71.0</td>\n",
       "      <td>0.04</td>\n",
       "      <td>2023-04-28</td>\n",
       "      <td>Series E</td>\n",
       "      <td>United States</td>\n",
       "      <td>1700.0</td>\n",
       "    </tr>\n",
       "    <tr>\n",
       "      <th>1</th>\n",
       "      <td>Providoor</td>\n",
       "      <td>Melbourne</td>\n",
       "      <td>Food</td>\n",
       "      <td>NaN</td>\n",
       "      <td>1.00</td>\n",
       "      <td>2023-04-28</td>\n",
       "      <td>Unknown</td>\n",
       "      <td>Australia</td>\n",
       "      <td>NaN</td>\n",
       "    </tr>\n",
       "    <tr>\n",
       "      <th>2</th>\n",
       "      <td>Dropbox</td>\n",
       "      <td>SF Bay Area</td>\n",
       "      <td>Other</td>\n",
       "      <td>500.0</td>\n",
       "      <td>0.16</td>\n",
       "      <td>2023-04-27</td>\n",
       "      <td>Post-IPO</td>\n",
       "      <td>United States</td>\n",
       "      <td>1700.0</td>\n",
       "    </tr>\n",
       "    <tr>\n",
       "      <th>3</th>\n",
       "      <td>Vroom</td>\n",
       "      <td>New York City</td>\n",
       "      <td>Transportation</td>\n",
       "      <td>120.0</td>\n",
       "      <td>0.11</td>\n",
       "      <td>2023-04-27</td>\n",
       "      <td>Post-IPO</td>\n",
       "      <td>United States</td>\n",
       "      <td>1300.0</td>\n",
       "    </tr>\n",
       "    <tr>\n",
       "      <th>4</th>\n",
       "      <td>Greenhouse</td>\n",
       "      <td>New York City</td>\n",
       "      <td>Recruiting</td>\n",
       "      <td>100.0</td>\n",
       "      <td>0.12</td>\n",
       "      <td>2023-04-27</td>\n",
       "      <td>Private Equity</td>\n",
       "      <td>United States</td>\n",
       "      <td>110.0</td>\n",
       "    </tr>\n",
       "  </tbody>\n",
       "</table>\n",
       "</div>"
      ],
      "text/plain": [
       "      company       location        industry  total_laid_off  \\\n",
       "0         N26         Berlin         Finance            71.0   \n",
       "1   Providoor      Melbourne            Food             NaN   \n",
       "2     Dropbox    SF Bay Area           Other           500.0   \n",
       "3       Vroom  New York City  Transportation           120.0   \n",
       "4  Greenhouse  New York City      Recruiting           100.0   \n",
       "\n",
       "   percentage_laid_off        date           stage        country  \\\n",
       "0                 0.04  2023-04-28        Series E  United States   \n",
       "1                 1.00  2023-04-28         Unknown      Australia   \n",
       "2                 0.16  2023-04-27        Post-IPO  United States   \n",
       "3                 0.11  2023-04-27        Post-IPO  United States   \n",
       "4                 0.12  2023-04-27  Private Equity  United States   \n",
       "\n",
       "   funds_raised  \n",
       "0        1700.0  \n",
       "1           NaN  \n",
       "2        1700.0  \n",
       "3        1300.0  \n",
       "4         110.0  "
      ]
     },
     "execution_count": 5,
     "metadata": {},
     "output_type": "execute_result"
    }
   ],
   "source": [
    "df.head()"
   ]
  },
  {
   "cell_type": "code",
   "execution_count": 6,
   "id": "d9a75ffd",
   "metadata": {
    "execution": {
     "iopub.execute_input": "2023-05-01T21:48:48.329164Z",
     "iopub.status.busy": "2023-05-01T21:48:48.328736Z",
     "iopub.status.idle": "2023-05-01T21:48:48.355651Z",
     "shell.execute_reply": "2023-05-01T21:48:48.354022Z"
    },
    "papermill": {
     "duration": 0.039714,
     "end_time": "2023-05-01T21:48:48.359547",
     "exception": false,
     "start_time": "2023-05-01T21:48:48.319833",
     "status": "completed"
    },
    "tags": []
   },
   "outputs": [
    {
     "data": {
      "text/html": [
       "<div>\n",
       "<style scoped>\n",
       "    .dataframe tbody tr th:only-of-type {\n",
       "        vertical-align: middle;\n",
       "    }\n",
       "\n",
       "    .dataframe tbody tr th {\n",
       "        vertical-align: top;\n",
       "    }\n",
       "\n",
       "    .dataframe thead th {\n",
       "        text-align: right;\n",
       "    }\n",
       "</style>\n",
       "<table border=\"1\" class=\"dataframe\">\n",
       "  <thead>\n",
       "    <tr style=\"text-align: right;\">\n",
       "      <th></th>\n",
       "      <th>total_laid_off</th>\n",
       "      <th>percentage_laid_off</th>\n",
       "      <th>funds_raised</th>\n",
       "    </tr>\n",
       "  </thead>\n",
       "  <tbody>\n",
       "    <tr>\n",
       "      <th>count</th>\n",
       "      <td>1746.000000</td>\n",
       "      <td>1694.000000</td>\n",
       "      <td>2297.000000</td>\n",
       "    </tr>\n",
       "    <tr>\n",
       "      <th>mean</th>\n",
       "      <td>256.022337</td>\n",
       "      <td>0.260577</td>\n",
       "      <td>814.143794</td>\n",
       "    </tr>\n",
       "    <tr>\n",
       "      <th>std</th>\n",
       "      <td>841.557354</td>\n",
       "      <td>0.258415</td>\n",
       "      <td>5448.104463</td>\n",
       "    </tr>\n",
       "    <tr>\n",
       "      <th>min</th>\n",
       "      <td>3.000000</td>\n",
       "      <td>0.000000</td>\n",
       "      <td>0.000000</td>\n",
       "    </tr>\n",
       "    <tr>\n",
       "      <th>25%</th>\n",
       "      <td>38.000000</td>\n",
       "      <td>0.100000</td>\n",
       "      <td>50.000000</td>\n",
       "    </tr>\n",
       "    <tr>\n",
       "      <th>50%</th>\n",
       "      <td>80.000000</td>\n",
       "      <td>0.170000</td>\n",
       "      <td>156.000000</td>\n",
       "    </tr>\n",
       "    <tr>\n",
       "      <th>75%</th>\n",
       "      <td>180.000000</td>\n",
       "      <td>0.300000</td>\n",
       "      <td>442.000000</td>\n",
       "    </tr>\n",
       "    <tr>\n",
       "      <th>max</th>\n",
       "      <td>12000.000000</td>\n",
       "      <td>1.000000</td>\n",
       "      <td>121900.000000</td>\n",
       "    </tr>\n",
       "  </tbody>\n",
       "</table>\n",
       "</div>"
      ],
      "text/plain": [
       "       total_laid_off  percentage_laid_off   funds_raised\n",
       "count     1746.000000          1694.000000    2297.000000\n",
       "mean       256.022337             0.260577     814.143794\n",
       "std        841.557354             0.258415    5448.104463\n",
       "min          3.000000             0.000000       0.000000\n",
       "25%         38.000000             0.100000      50.000000\n",
       "50%         80.000000             0.170000     156.000000\n",
       "75%        180.000000             0.300000     442.000000\n",
       "max      12000.000000             1.000000  121900.000000"
      ]
     },
     "execution_count": 6,
     "metadata": {},
     "output_type": "execute_result"
    }
   ],
   "source": [
    "df.describe() # numeric values in reasonable range"
   ]
  },
  {
   "cell_type": "code",
   "execution_count": 7,
   "id": "91e3e001",
   "metadata": {
    "execution": {
     "iopub.execute_input": "2023-05-01T21:48:48.377000Z",
     "iopub.status.busy": "2023-05-01T21:48:48.376558Z",
     "iopub.status.idle": "2023-05-01T21:48:48.387367Z",
     "shell.execute_reply": "2023-05-01T21:48:48.385918Z"
    },
    "papermill": {
     "duration": 0.022434,
     "end_time": "2023-05-01T21:48:48.389898",
     "exception": false,
     "start_time": "2023-05-01T21:48:48.367464",
     "status": "completed"
    },
    "tags": []
   },
   "outputs": [
    {
     "data": {
      "text/plain": [
       "United States     1649\n",
       "India              169\n",
       "Canada             108\n",
       "United Kingdom      80\n",
       "Brazil              76\n",
       "Germany             72\n",
       "Australia           63\n",
       "Israel              56\n",
       "Singapore           35\n",
       "Indonesia           26\n",
       "Name: country, dtype: int64"
      ]
     },
     "execution_count": 7,
     "metadata": {},
     "output_type": "execute_result"
    }
   ],
   "source": [
    "df.country.value_counts()[:10] # check top 10 countries which the layoffs companies in"
   ]
  },
  {
   "cell_type": "code",
   "execution_count": 8,
   "id": "cb4c465f",
   "metadata": {
    "execution": {
     "iopub.execute_input": "2023-05-01T21:48:48.407987Z",
     "iopub.status.busy": "2023-05-01T21:48:48.407402Z",
     "iopub.status.idle": "2023-05-01T21:48:48.416603Z",
     "shell.execute_reply": "2023-05-01T21:48:48.415394Z"
    },
    "papermill": {
     "duration": 0.02055,
     "end_time": "2023-05-01T21:48:48.419069",
     "exception": false,
     "start_time": "2023-05-01T21:48:48.398519",
     "status": "completed"
    },
    "tags": []
   },
   "outputs": [
    {
     "data": {
      "text/plain": [
       "(1649, 9)"
      ]
     },
     "execution_count": 8,
     "metadata": {},
     "output_type": "execute_result"
    }
   ],
   "source": [
    "# keep only companies in US\n",
    "df = df[df.country == 'United States']\n",
    "df.shape"
   ]
  },
  {
   "cell_type": "code",
   "execution_count": 9,
   "id": "d10f4fb3",
   "metadata": {
    "execution": {
     "iopub.execute_input": "2023-05-01T21:48:48.435818Z",
     "iopub.status.busy": "2023-05-01T21:48:48.435362Z",
     "iopub.status.idle": "2023-05-01T21:48:48.445099Z",
     "shell.execute_reply": "2023-05-01T21:48:48.443896Z"
    },
    "papermill": {
     "duration": 0.020971,
     "end_time": "2023-05-01T21:48:48.447572",
     "exception": false,
     "start_time": "2023-05-01T21:48:48.426601",
     "status": "completed"
    },
    "tags": []
   },
   "outputs": [
    {
     "data": {
      "text/plain": [
       "company                  0\n",
       "location                 0\n",
       "industry                 1\n",
       "total_laid_off         551\n",
       "percentage_laid_off    552\n",
       "date                     1\n",
       "stage                    4\n",
       "country                  0\n",
       "funds_raised           136\n",
       "dtype: int64"
      ]
     },
     "execution_count": 9,
     "metadata": {},
     "output_type": "execute_result"
    }
   ],
   "source": [
    "# check NaN values\n",
    "df.isnull().sum()"
   ]
  },
  {
   "cell_type": "code",
   "execution_count": 10,
   "id": "5280bb08",
   "metadata": {
    "execution": {
     "iopub.execute_input": "2023-05-01T21:48:48.464422Z",
     "iopub.status.busy": "2023-05-01T21:48:48.463992Z",
     "iopub.status.idle": "2023-05-01T21:48:48.473375Z",
     "shell.execute_reply": "2023-05-01T21:48:48.472265Z"
    },
    "papermill": {
     "duration": 0.021131,
     "end_time": "2023-05-01T21:48:48.476168",
     "exception": false,
     "start_time": "2023-05-01T21:48:48.455037",
     "status": "completed"
    },
    "tags": []
   },
   "outputs": [
    {
     "data": {
      "text/plain": [
       "(1644, 9)"
      ]
     },
     "execution_count": 10,
     "metadata": {},
     "output_type": "execute_result"
    }
   ],
   "source": [
    "# drop rows missing industry and stage data\n",
    "df = df[df.industry.notna() & df.stage.notna()]\n",
    "df.shape"
   ]
  },
  {
   "cell_type": "markdown",
   "id": "0a04cb9f",
   "metadata": {
    "papermill": {
     "duration": 0.007487,
     "end_time": "2023-05-01T21:48:48.491641",
     "exception": false,
     "start_time": "2023-05-01T21:48:48.484154",
     "status": "completed"
    },
    "tags": []
   },
   "source": [
    "### 1. Which industries are the hardest hit by layoffs?"
   ]
  },
  {
   "cell_type": "code",
   "execution_count": 11,
   "id": "237248ab",
   "metadata": {
    "execution": {
     "iopub.execute_input": "2023-05-01T21:48:48.509265Z",
     "iopub.status.busy": "2023-05-01T21:48:48.508428Z",
     "iopub.status.idle": "2023-05-01T21:48:48.518249Z",
     "shell.execute_reply": "2023-05-01T21:48:48.516953Z"
    },
    "papermill": {
     "duration": 0.02193,
     "end_time": "2023-05-01T21:48:48.521171",
     "exception": false,
     "start_time": "2023-05-01T21:48:48.499241",
     "status": "completed"
    },
    "tags": []
   },
   "outputs": [
    {
     "data": {
      "text/plain": [
       "29"
      ]
     },
     "execution_count": 11,
     "metadata": {},
     "output_type": "execute_result"
    }
   ],
   "source": [
    "df.industry.nunique() # total number of industries"
   ]
  },
  {
   "cell_type": "code",
   "execution_count": 12,
   "id": "1da3612b",
   "metadata": {
    "execution": {
     "iopub.execute_input": "2023-05-01T21:48:48.540950Z",
     "iopub.status.busy": "2023-05-01T21:48:48.539499Z",
     "iopub.status.idle": "2023-05-01T21:48:49.399747Z",
     "shell.execute_reply": "2023-05-01T21:48:49.398118Z"
    },
    "papermill": {
     "duration": 0.873275,
     "end_time": "2023-05-01T21:48:49.402478",
     "exception": false,
     "start_time": "2023-05-01T21:48:48.529203",
     "status": "completed"
    },
    "tags": []
   },
   "outputs": [
    {
     "data": {
      "image/png": "[encoded data removed]",
      "text/plain": [
       "<Figure size 720x720 with 2 Axes>"
      ]
     },
     "metadata": {},
     "output_type": "display_data"
    }
   ],
   "source": [
    "# Visualize top industries\n",
    "\n",
    "# Top 15 indusries by total layoffs\n",
    "indsSum = df[['industry', 'total_laid_off']] \\\n",
    "            .groupby('industry', as_index=False).sum() \\\n",
    "            .sort_values(by='total_laid_off', ascending=False)\n",
    "\n",
    "# Top 15 indusries by total layoff companies\n",
    "indsCount = df[['industry', 'company']] \\\n",
    "            .groupby('industry', as_index=False).count() \\\n",
    "            .sort_values(by='company', ascending=False)\n",
    "\n",
    "# Industries in both top ranks\n",
    "inds = [i for i in indsSum.industry[:15] if i in indsCount.industry[:15].tolist()]\n",
    "\n",
    "# Create a custom palette to highlight the overlapping industries\n",
    "palette = ['#d9534f' if industry in inds else '#5bc0de' for industry in indsSum.industry[:15]]\n",
    "\n",
    "# Create a figure and set the size\n",
    "fig, axes = plt.subplots(nrows=2, ncols=1, figsize=(10, 10))\n",
    "fig.suptitle('Top 15 Industries Hardest Hit by Layoffs', fontsize=16, x=0.57, y=1)\n",
    "\n",
    "# First subplot (top)\n",
    "sns.barplot(ax=axes[0], data=indsSum.iloc[:15], x='total_laid_off', y='industry', palette=palette)\n",
    "axes[0].set_title('Total People Laid Off', fontsize=14)\n",
    "axes[0].set_xlabel('Total Laid Off')\n",
    "axes[0].set_ylabel('Industry')\n",
    "\n",
    "# Update the palette for the second plot\n",
    "palette = ['#d9534f' if industry in inds else '#5bc0de' for industry in indsCount.industry[:15]]\n",
    "\n",
    "# Second subplot (bottom)\n",
    "sns.barplot(ax=axes[1], data=indsCount.iloc[:15], x='company', y='industry', palette=palette)\n",
    "axes[1].set_title('Total Companies Affected', fontsize=14)\n",
    "axes[1].set_xlabel('Total Companies')\n",
    "axes[1].set_ylabel('Industry')\n",
    "\n",
    "# Adjust the layout and display the combined plots\n",
    "plt.tight_layout()\n",
    "plt.show()"
   ]
  },
  {
   "cell_type": "code",
   "execution_count": 13,
   "id": "b4e619d5",
   "metadata": {
    "execution": {
     "iopub.execute_input": "2023-05-01T21:48:49.421435Z",
     "iopub.status.busy": "2023-05-01T21:48:49.421005Z",
     "iopub.status.idle": "2023-05-01T21:48:49.428990Z",
     "shell.execute_reply": "2023-05-01T21:48:49.427642Z"
    },
    "papermill": {
     "duration": 0.020428,
     "end_time": "2023-05-01T21:48:49.431509",
     "exception": false,
     "start_time": "2023-05-01T21:48:49.411081",
     "status": "completed"
    },
    "tags": []
   },
   "outputs": [
    {
     "data": {
      "text/plain": [
       "['Consumer',\n",
       " 'Retail',\n",
       " 'Transportation',\n",
       " 'Other',\n",
       " 'Finance',\n",
       " 'Real Estate',\n",
       " 'Healthcare',\n",
       " 'Food',\n",
       " 'Security',\n",
       " 'Marketing']"
      ]
     },
     "execution_count": 13,
     "metadata": {},
     "output_type": "execute_result"
    }
   ],
   "source": [
    "inds"
   ]
  },
  {
   "cell_type": "code",
   "execution_count": 14,
   "id": "12765b3b",
   "metadata": {
    "execution": {
     "iopub.execute_input": "2023-05-01T21:48:49.451315Z",
     "iopub.status.busy": "2023-05-01T21:48:49.450878Z",
     "iopub.status.idle": "2023-05-01T21:48:50.271103Z",
     "shell.execute_reply": "2023-05-01T21:48:50.269964Z"
    },
    "papermill": {
     "duration": 0.834246,
     "end_time": "2023-05-01T21:48:50.274421",
     "exception": false,
     "start_time": "2023-05-01T21:48:49.440175",
     "status": "completed"
    },
    "tags": []
   },
   "outputs": [
    {
     "data": {
      "image/png": "[encoded data removed]",
      "text/plain": [
       "<Figure size 720x720 with 2 Axes>"
      ]
     },
     "metadata": {},
     "output_type": "display_data"
    }
   ],
   "source": [
    "# Verision 2\n",
    "\n",
    "# Create a figure and set the size\n",
    "fig, axes = plt.subplots(nrows=2, ncols=1, figsize=(10, 10))\n",
    "fig.suptitle('Top 15 Industries Hardest Hit by Layoffs', fontsize=16, x=0.57, y=1)\n",
    "\n",
    "# First subplot (top)\n",
    "barplot_1 = sns.barplot(ax=axes[0], data=indsSum.iloc[:15], x='total_laid_off', y='industry', palette='BuPu_r')\n",
    "axes[0].set_title('Total People Laid Off', fontsize=14)\n",
    "axes[0].set_xlabel('Total Laid Off')\n",
    "axes[0].set_ylabel('')\n",
    "\n",
    "# Bold overlapping industries in y-labels for the first subplot\n",
    "for i, industry in enumerate(indsSum.industry[:15]):\n",
    "    if industry in inds:\n",
    "        axes[0].text(-0.15, i, industry, weight='bold', ha='right', va='center')\n",
    "    else:\n",
    "        axes[0].text(-0.15, i, industry, ha='right', va='center')\n",
    "\n",
    "# Second subplot (bottom)\n",
    "barplot_2 = sns.barplot(ax=axes[1], data=indsCount.iloc[:15], x='company', y='industry', palette='BuPu_r')\n",
    "axes[1].set_title('Total Companies Affected', fontsize=14)\n",
    "axes[1].set_xlabel('Total Companies')\n",
    "axes[1].set_ylabel('')\n",
    "\n",
    "# Bold overlapping industries in y-labels for the second subplot\n",
    "for i, industry in enumerate(indsCount.industry[:15]):\n",
    "    if industry in inds:\n",
    "        axes[1].text(-0.15, i, industry, weight='bold', ha='right', va='center')\n",
    "    else:\n",
    "        axes[1].text(-0.15, i, industry, ha='right', va='center')\n",
    "\n",
    "# Remove original y-labels\n",
    "barplot_1.set(yticklabels=[])\n",
    "barplot_2.set(yticklabels=[])\n",
    "\n",
    "# Adjust the layout and display the combined plots\n",
    "plt.tight_layout()\n",
    "plt.show()"
   ]
  },
  {
   "cell_type": "code",
   "execution_count": 15,
   "id": "15cd6319",
   "metadata": {
    "execution": {
     "iopub.execute_input": "2023-05-01T21:48:50.295160Z",
     "iopub.status.busy": "2023-05-01T21:48:50.294711Z",
     "iopub.status.idle": "2023-05-01T21:48:50.308064Z",
     "shell.execute_reply": "2023-05-01T21:48:50.306704Z"
    },
    "papermill": {
     "duration": 0.026686,
     "end_time": "2023-05-01T21:48:50.310646",
     "exception": false,
     "start_time": "2023-05-01T21:48:50.283960",
     "status": "completed"
    },
    "tags": []
   },
   "outputs": [
    {
     "data": {
      "text/plain": [
       "count    1093.000000\n",
       "mean        0.250194\n",
       "std         0.251592\n",
       "min         0.000000\n",
       "25%         0.100000\n",
       "50%         0.160000\n",
       "75%         0.290000\n",
       "max         1.000000\n",
       "Name: percentage_laid_off, dtype: float64"
      ]
     },
     "execution_count": 15,
     "metadata": {},
     "output_type": "execute_result"
    }
   ],
   "source": [
    "df[\"percentage_laid_off\"].describe()"
   ]
  },
  {
   "cell_type": "code",
   "execution_count": 16,
   "id": "04922e44",
   "metadata": {
    "execution": {
     "iopub.execute_input": "2023-05-01T21:48:50.334625Z",
     "iopub.status.busy": "2023-05-01T21:48:50.333287Z",
     "iopub.status.idle": "2023-05-01T21:48:50.731779Z",
     "shell.execute_reply": "2023-05-01T21:48:50.730427Z"
    },
    "papermill": {
     "duration": 0.413495,
     "end_time": "2023-05-01T21:48:50.734581",
     "exception": false,
     "start_time": "2023-05-01T21:48:50.321086",
     "status": "completed"
    },
    "tags": []
   },
   "outputs": [
    {
     "data": {
      "image/png": "[encoded data removed]",
      "text/plain": [
       "<Figure size 720x576 with 1 Axes>"
      ]
     },
     "metadata": {},
     "output_type": "display_data"
    }
   ],
   "source": [
    "# boxplot of pct layoff\n",
    "plt.figure(figsize=(10, 8))\n",
    "ax = sns.boxplot(x=\"percentage_laid_off\", y=\"industry\", data=df, order=inds, palette='coolwarm_r')\n",
    "plt.title('Boxplot of Percentage Laid Off by Industry')\n",
    "plt.xlabel('Percentage Laid Off')\n",
    "plt.ylabel('Industry')\n",
    "plt.show()"
   ]
  },
  {
   "cell_type": "code",
   "execution_count": 17,
   "id": "76a0edc1",
   "metadata": {
    "execution": {
     "iopub.execute_input": "2023-05-01T21:48:50.757185Z",
     "iopub.status.busy": "2023-05-01T21:48:50.756721Z",
     "iopub.status.idle": "2023-05-01T21:48:51.097686Z",
     "shell.execute_reply": "2023-05-01T21:48:51.096106Z"
    },
    "papermill": {
     "duration": 0.355546,
     "end_time": "2023-05-01T21:48:51.100518",
     "exception": false,
     "start_time": "2023-05-01T21:48:50.744972",
     "status": "completed"
    },
    "tags": []
   },
   "outputs": [
    {
     "data": {
      "image/png": "[encoded data removed]",
      "text/plain": [
       "<Figure size 720x576 with 1 Axes>"
      ]
     },
     "metadata": {},
     "output_type": "display_data"
    }
   ],
   "source": [
    "# boxplot of total layoff\n",
    "\n",
    "# remove outliers (initial's range heavily shrinked with large outliers)\n",
    "q_low = df[\"total_laid_off\"].quantile(0.05)\n",
    "q_hi  = df[\"total_laid_off\"].quantile(0.95)\n",
    "df_filtered = df[(df[\"total_laid_off\"] < q_hi) & (df[\"total_laid_off\"] > q_low)]\n",
    "\n",
    "plt.figure(figsize=(10, 8))\n",
    "ax = sns.boxplot(x=\"total_laid_off\", y=\"industry\", data=df_filtered, order=inds, palette='coolwarm_r')\n",
    "plt.title('Boxplot of Total Laid Off by Industry')\n",
    "plt.xlabel('Total Laid Off')\n",
    "plt.ylabel('Industry')\n",
    "plt.show()"
   ]
  },
  {
   "cell_type": "markdown",
   "id": "5a1a4395",
   "metadata": {
    "papermill": {
     "duration": 0.010719,
     "end_time": "2023-05-01T21:48:51.122444",
     "exception": false,
     "start_time": "2023-05-01T21:48:51.111725",
     "status": "completed"
    },
    "tags": []
   },
   "source": [
    "### What is the financing status of companies with a high percentage of layoffs?"
   ]
  },
  {
   "cell_type": "code",
   "execution_count": 18,
   "id": "7c42a8ad",
   "metadata": {
    "execution": {
     "iopub.execute_input": "2023-05-01T21:48:51.147294Z",
     "iopub.status.busy": "2023-05-01T21:48:51.146046Z",
     "iopub.status.idle": "2023-05-01T21:48:51.157038Z",
     "shell.execute_reply": "2023-05-01T21:48:51.155767Z"
    },
    "papermill": {
     "duration": 0.026509,
     "end_time": "2023-05-01T21:48:51.159774",
     "exception": false,
     "start_time": "2023-05-01T21:48:51.133265",
     "status": "completed"
    },
    "tags": []
   },
   "outputs": [
    {
     "data": {
      "text/plain": [
       "(0.1, 0.29)"
      ]
     },
     "execution_count": 18,
     "metadata": {},
     "output_type": "execute_result"
    }
   ],
   "source": [
    "df[\"percentage_laid_off\"].quantile(0.25), df[\"percentage_laid_off\"].quantile(0.75)"
   ]
  },
  {
   "cell_type": "code",
   "execution_count": 19,
   "id": "1f4d0b43",
   "metadata": {
    "execution": {
     "iopub.execute_input": "2023-05-01T21:48:51.184782Z",
     "iopub.status.busy": "2023-05-01T21:48:51.183677Z",
     "iopub.status.idle": "2023-05-01T21:48:51.195400Z",
     "shell.execute_reply": "2023-05-01T21:48:51.194098Z"
    },
    "papermill": {
     "duration": 0.026897,
     "end_time": "2023-05-01T21:48:51.198072",
     "exception": false,
     "start_time": "2023-05-01T21:48:51.171175",
     "status": "completed"
    },
    "tags": []
   },
   "outputs": [
    {
     "data": {
      "text/plain": [
       "Series B          59\n",
       "Unknown           39\n",
       "Series C          35\n",
       "Series A          35\n",
       "Post-IPO          28\n",
       "Seed              19\n",
       "Series D          18\n",
       "Acquired          18\n",
       "Series E          12\n",
       "Series F           4\n",
       "Private Equity     3\n",
       "Series H           2\n",
       "Series G           1\n",
       "Name: stage, dtype: int64"
      ]
     },
     "execution_count": 19,
     "metadata": {},
     "output_type": "execute_result"
    }
   ],
   "source": [
    "hRateCompn = df[df.percentage_laid_off >= 0.3]\n",
    "hRateCompn.stage.value_counts()"
   ]
  },
  {
   "cell_type": "markdown",
   "id": "a3be1b80",
   "metadata": {
    "papermill": {
     "duration": 0.010612,
     "end_time": "2023-05-01T21:48:51.219676",
     "exception": false,
     "start_time": "2023-05-01T21:48:51.209064",
     "status": "completed"
    },
    "tags": []
   },
   "source": [
    "### In which regions are the companies with high layoff ratios located?"
   ]
  },
  {
   "cell_type": "code",
   "execution_count": 20,
   "id": "f9b76700",
   "metadata": {
    "execution": {
     "iopub.execute_input": "2023-05-01T21:48:51.243596Z",
     "iopub.status.busy": "2023-05-01T21:48:51.243191Z",
     "iopub.status.idle": "2023-05-01T21:48:51.253359Z",
     "shell.execute_reply": "2023-05-01T21:48:51.252069Z"
    },
    "papermill": {
     "duration": 0.025333,
     "end_time": "2023-05-01T21:48:51.256034",
     "exception": false,
     "start_time": "2023-05-01T21:48:51.230701",
     "status": "completed"
    },
    "tags": []
   },
   "outputs": [
    {
     "data": {
      "text/plain": [
       "SF Bay Area      106\n",
       "New York City     48\n",
       "Boston            22\n",
       "Los Angeles       22\n",
       "Seattle           14\n",
       "Austin             6\n",
       "Chicago            4\n",
       "Portland           4\n",
       "Minneapolis        3\n",
       "Columbus           3\n",
       "Name: location, dtype: int64"
      ]
     },
     "execution_count": 20,
     "metadata": {},
     "output_type": "execute_result"
    }
   ],
   "source": [
    "hRateCompn.location.value_counts()[:10]"
   ]
  },
  {
   "cell_type": "markdown",
   "id": "b10b9f68",
   "metadata": {
    "papermill": {
     "duration": 0.010771,
     "end_time": "2023-05-01T21:48:51.277945",
     "exception": false,
     "start_time": "2023-05-01T21:48:51.267174",
     "status": "completed"
    },
    "tags": []
   },
   "source": [
    "### What are the future trends of the layoff wave?"
   ]
  },
  {
   "cell_type": "code",
   "execution_count": null,
   "id": "6dafcd7f",
   "metadata": {
    "papermill": {
     "duration": 0.011132,
     "end_time": "2023-05-01T21:48:51.300196",
     "exception": false,
     "start_time": "2023-05-01T21:48:51.289064",
     "status": "completed"
    },
    "tags": []
   },
   "outputs": [],
   "source": []
  },
  {
   "cell_type": "markdown",
   "id": "cdabc006",
   "metadata": {
    "papermill": {
     "duration": 0.010761,
     "end_time": "2023-05-01T21:48:51.321981",
     "exception": false,
     "start_time": "2023-05-01T21:48:51.311220",
     "status": "completed"
    },
    "tags": []
   },
   "source": [
    "### Has the wave of layoffs reached or passed its peak?"
   ]
  },
  {
   "cell_type": "code",
   "execution_count": null,
   "id": "f60e6b2b",
   "metadata": {
    "papermill": {
     "duration": 0.011265,
     "end_time": "2023-05-01T21:48:51.344906",
     "exception": false,
     "start_time": "2023-05-01T21:48:51.333641",
     "status": "completed"
    },
    "tags": []
   },
   "outputs": [],
   "source": []
  }
 ],
 "metadata": {
  "kernelspec": {
   "display_name": "Python 3",
   "language": "python",
   "name": "python3"
  },
  "language_info": {
   "codemirror_mode": {
    "name": "ipython",
    "version": 3
   },
   "file_extension": ".py",
   "mimetype": "text/x-python",
   "name": "python",
   "nbconvert_exporter": "python",
   "pygments_lexer": "ipython3",
   "version": "3.7.12"
  },
  "papermill": {
   "default_parameters": {},
   "duration": 18.743748,
   "end_time": "2023-05-01T21:48:54.959479",
   "environment_variables": {},
   "exception": null,
   "input_path": "__notebook__.ipynb",
   "output_path": "__notebook__.ipynb",
   "parameters": {},
   "start_time": "2023-05-01T21:48:36.215731",
   "version": "2.3.4"
  }
 },
 "nbformat": 4,
 "nbformat_minor": 5
}
