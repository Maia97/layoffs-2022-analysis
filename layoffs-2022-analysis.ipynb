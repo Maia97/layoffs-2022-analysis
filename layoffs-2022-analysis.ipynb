{
 "cells": [
  {
   "cell_type": "code",
   "execution_count": 1,
   "id": "854639e4",
   "metadata": {
    "execution": {
     "iopub.execute_input": "2023-02-20T09:28:19.557687Z",
     "iopub.status.busy": "2023-02-20T09:28:19.556948Z",
     "iopub.status.idle": "2023-02-20T09:28:19.563363Z",
     "shell.execute_reply": "2023-02-20T09:28:19.562176Z"
    },
    "papermill": {
     "duration": 0.018237,
     "end_time": "2023-02-20T09:28:19.566113",
     "exception": false,
     "start_time": "2023-02-20T09:28:19.547876",
     "status": "completed"
    },
    "tags": []
   },
   "outputs": [],
   "source": [
    "## Layoff Analysis"
   ]
  },
  {
   "cell_type": "code",
   "execution_count": 2,
   "id": "6b5a4f5a",
   "metadata": {
    "execution": {
     "iopub.execute_input": "2023-02-20T09:28:19.580832Z",
     "iopub.status.busy": "2023-02-20T09:28:19.580441Z",
     "iopub.status.idle": "2023-02-20T09:28:20.690690Z",
     "shell.execute_reply": "2023-02-20T09:28:20.689374Z"
    },
    "papermill": {
     "duration": 1.120819,
     "end_time": "2023-02-20T09:28:20.693465",
     "exception": false,
     "start_time": "2023-02-20T09:28:19.572646",
     "status": "completed"
    },
    "tags": []
   },
   "outputs": [],
   "source": [
    "import matplotlib.pyplot as plt \n",
    "import seaborn as sns\n",
    "sns.set_style(\"darkgrid\")"
   ]
  },
  {
   "cell_type": "code",
   "execution_count": 3,
   "id": "33932405",
   "metadata": {
    "_cell_guid": "b1076dfc-b9ad-4769-8c92-a6c4dae69d19",
    "_uuid": "8f2839f25d086af736a60e9eeb907d3b93b6e0e5",
    "execution": {
     "iopub.execute_input": "2023-02-20T09:28:20.708244Z",
     "iopub.status.busy": "2023-02-20T09:28:20.707866Z",
     "iopub.status.idle": "2023-02-20T09:28:20.717920Z",
     "shell.execute_reply": "2023-02-20T09:28:20.716501Z"
    },
    "papermill": {
     "duration": 0.020567,
     "end_time": "2023-02-20T09:28:20.720692",
     "exception": false,
     "start_time": "2023-02-20T09:28:20.700125",
     "status": "completed"
    },
    "tags": []
   },
   "outputs": [
    {
     "name": "stdout",
     "output_type": "stream",
     "text": [
      "/kaggle/input/layoffs-2022/layoffs.csv\n"
     ]
    }
   ],
   "source": [
    "# This Python 3 environment comes with many helpful analytics libraries installed\n",
    "# It is defined by the kaggle/python Docker image: https://github.com/kaggle/docker-python\n",
    "# For example, here's several helpful packages to load\n",
    "\n",
    "import numpy as np # linear algebra\n",
    "import pandas as pd # data processing, CSV file I/O (e.g. pd.read_csv)\n",
    "\n",
    "# Input data files are available in the read-only \"../input/\" directory\n",
    "# For example, running this (by clicking run or pressing Shift+Enter) will list all files under the input directory\n",
    "\n",
    "import os\n",
    "for dirname, _, filenames in os.walk('/kaggle/input'):\n",
    "    for filename in filenames:\n",
    "        print(os.path.join(dirname, filename))\n",
    "\n",
    "# You can write up to 20GB to the current directory (/kaggle/working/) that gets preserved as output when you create a version using \"Save & Run All\" \n",
    "# You can also write temporary files to /kaggle/temp/, but they won't be saved outside of the current session"
   ]
  },
  {
   "cell_type": "code",
   "execution_count": 4,
   "id": "6a31dd7f",
   "metadata": {
    "execution": {
     "iopub.execute_input": "2023-02-20T09:28:20.735347Z",
     "iopub.status.busy": "2023-02-20T09:28:20.734973Z",
     "iopub.status.idle": "2023-02-20T09:28:20.778979Z",
     "shell.execute_reply": "2023-02-20T09:28:20.777444Z"
    },
    "papermill": {
     "duration": 0.054282,
     "end_time": "2023-02-20T09:28:20.781583",
     "exception": false,
     "start_time": "2023-02-20T09:28:20.727301",
     "status": "completed"
    },
    "tags": []
   },
   "outputs": [
    {
     "name": "stdout",
     "output_type": "stream",
     "text": [
      "<class 'pandas.core.frame.DataFrame'>\n",
      "RangeIndex: 2232 entries, 0 to 2231\n",
      "Data columns (total 9 columns):\n",
      " #   Column               Non-Null Count  Dtype  \n",
      "---  ------               --------------  -----  \n",
      " 0   company              2232 non-null   object \n",
      " 1   location             2232 non-null   object \n",
      " 2   industry             2231 non-null   object \n",
      " 3   total_laid_off       1534 non-null   float64\n",
      " 4   percentage_laid_off  1503 non-null   float64\n",
      " 5   date                 2232 non-null   object \n",
      " 6   stage                2226 non-null   object \n",
      " 7   country              2232 non-null   object \n",
      " 8   funds_raised         2037 non-null   float64\n",
      "dtypes: float64(3), object(6)\n",
      "memory usage: 157.1+ KB\n"
     ]
    }
   ],
   "source": [
    "df = pd.read_csv('/kaggle/input/layoffs-2022/layoffs.csv')\n",
    "df.info()"
   ]
  },
  {
   "cell_type": "code",
   "execution_count": 5,
   "id": "a3a8bc6a",
   "metadata": {
    "execution": {
     "iopub.execute_input": "2023-02-20T09:28:20.797045Z",
     "iopub.status.busy": "2023-02-20T09:28:20.796625Z",
     "iopub.status.idle": "2023-02-20T09:28:20.818399Z",
     "shell.execute_reply": "2023-02-20T09:28:20.817247Z"
    },
    "papermill": {
     "duration": 0.032466,
     "end_time": "2023-02-20T09:28:20.820870",
     "exception": false,
     "start_time": "2023-02-20T09:28:20.788404",
     "status": "completed"
    },
    "tags": []
   },
   "outputs": [
    {
     "data": {
      "text/html": [
       "<div>\n",
       "<style scoped>\n",
       "    .dataframe tbody tr th:only-of-type {\n",
       "        vertical-align: middle;\n",
       "    }\n",
       "\n",
       "    .dataframe tbody tr th {\n",
       "        vertical-align: top;\n",
       "    }\n",
       "\n",
       "    .dataframe thead th {\n",
       "        text-align: right;\n",
       "    }\n",
       "</style>\n",
       "<table border=\"1\" class=\"dataframe\">\n",
       "  <thead>\n",
       "    <tr style=\"text-align: right;\">\n",
       "      <th></th>\n",
       "      <th>company</th>\n",
       "      <th>location</th>\n",
       "      <th>industry</th>\n",
       "      <th>total_laid_off</th>\n",
       "      <th>percentage_laid_off</th>\n",
       "      <th>date</th>\n",
       "      <th>stage</th>\n",
       "      <th>country</th>\n",
       "      <th>funds_raised</th>\n",
       "    </tr>\n",
       "  </thead>\n",
       "  <tbody>\n",
       "    <tr>\n",
       "      <th>0</th>\n",
       "      <td>Twilio</td>\n",
       "      <td>SF Bay Area</td>\n",
       "      <td>Other</td>\n",
       "      <td>1500.0</td>\n",
       "      <td>0.17</td>\n",
       "      <td>2023-02-13</td>\n",
       "      <td>Post-IPO</td>\n",
       "      <td>United States</td>\n",
       "      <td>614.0</td>\n",
       "    </tr>\n",
       "    <tr>\n",
       "      <th>1</th>\n",
       "      <td>Casavo</td>\n",
       "      <td>Milan</td>\n",
       "      <td>Real Estate</td>\n",
       "      <td>NaN</td>\n",
       "      <td>0.30</td>\n",
       "      <td>2023-02-13</td>\n",
       "      <td>Unknown</td>\n",
       "      <td>Italy</td>\n",
       "      <td>708.0</td>\n",
       "    </tr>\n",
       "    <tr>\n",
       "      <th>2</th>\n",
       "      <td>Getir</td>\n",
       "      <td>London</td>\n",
       "      <td>Food</td>\n",
       "      <td>NaN</td>\n",
       "      <td>NaN</td>\n",
       "      <td>2023-02-13</td>\n",
       "      <td>Series E</td>\n",
       "      <td>United Kingdom</td>\n",
       "      <td>1800.0</td>\n",
       "    </tr>\n",
       "    <tr>\n",
       "      <th>3</th>\n",
       "      <td>LinkedIn</td>\n",
       "      <td>SF Bay Area</td>\n",
       "      <td>HR</td>\n",
       "      <td>NaN</td>\n",
       "      <td>NaN</td>\n",
       "      <td>2023-02-13</td>\n",
       "      <td>Acquired</td>\n",
       "      <td>United States</td>\n",
       "      <td>154.0</td>\n",
       "    </tr>\n",
       "    <tr>\n",
       "      <th>4</th>\n",
       "      <td>Moladin</td>\n",
       "      <td>Jakarta</td>\n",
       "      <td>Transportation</td>\n",
       "      <td>360.0</td>\n",
       "      <td>0.11</td>\n",
       "      <td>2023-02-12</td>\n",
       "      <td>Series B</td>\n",
       "      <td>Indonesia</td>\n",
       "      <td>138.0</td>\n",
       "    </tr>\n",
       "  </tbody>\n",
       "</table>\n",
       "</div>"
      ],
      "text/plain": [
       "    company     location        industry  total_laid_off  percentage_laid_off  \\\n",
       "0    Twilio  SF Bay Area           Other          1500.0                 0.17   \n",
       "1    Casavo        Milan     Real Estate             NaN                 0.30   \n",
       "2     Getir       London            Food             NaN                  NaN   \n",
       "3  LinkedIn  SF Bay Area              HR             NaN                  NaN   \n",
       "4   Moladin      Jakarta  Transportation           360.0                 0.11   \n",
       "\n",
       "         date     stage         country  funds_raised  \n",
       "0  2023-02-13  Post-IPO   United States         614.0  \n",
       "1  2023-02-13   Unknown           Italy         708.0  \n",
       "2  2023-02-13  Series E  United Kingdom        1800.0  \n",
       "3  2023-02-13  Acquired   United States         154.0  \n",
       "4  2023-02-12  Series B       Indonesia         138.0  "
      ]
     },
     "execution_count": 5,
     "metadata": {},
     "output_type": "execute_result"
    }
   ],
   "source": [
    "df.head()"
   ]
  },
  {
   "cell_type": "code",
   "execution_count": 6,
   "id": "4735be3e",
   "metadata": {
    "execution": {
     "iopub.execute_input": "2023-02-20T09:28:20.835920Z",
     "iopub.status.busy": "2023-02-20T09:28:20.835544Z",
     "iopub.status.idle": "2023-02-20T09:28:20.844553Z",
     "shell.execute_reply": "2023-02-20T09:28:20.843410Z"
    },
    "papermill": {
     "duration": 0.019269,
     "end_time": "2023-02-20T09:28:20.846781",
     "exception": false,
     "start_time": "2023-02-20T09:28:20.827512",
     "status": "completed"
    },
    "tags": []
   },
   "outputs": [
    {
     "data": {
      "text/plain": [
       "United States     1460\n",
       "India              140\n",
       "Canada              99\n",
       "United Kingdom      72\n",
       "Brazil              70\n",
       "Germany             65\n",
       "Israel              52\n",
       "Australia           47\n",
       "Singapore           32\n",
       "Indonesia           24\n",
       "Name: country, dtype: int64"
      ]
     },
     "execution_count": 6,
     "metadata": {},
     "output_type": "execute_result"
    }
   ],
   "source": [
    "# top 10 countries which the layoffs companies in\n",
    "df.country.value_counts()[:10]"
   ]
  },
  {
   "cell_type": "code",
   "execution_count": 7,
   "id": "66d2842c",
   "metadata": {
    "execution": {
     "iopub.execute_input": "2023-02-20T09:28:20.862368Z",
     "iopub.status.busy": "2023-02-20T09:28:20.861989Z",
     "iopub.status.idle": "2023-02-20T09:28:20.871255Z",
     "shell.execute_reply": "2023-02-20T09:28:20.870324Z"
    },
    "papermill": {
     "duration": 0.019753,
     "end_time": "2023-02-20T09:28:20.873550",
     "exception": false,
     "start_time": "2023-02-20T09:28:20.853797",
     "status": "completed"
    },
    "tags": []
   },
   "outputs": [
    {
     "data": {
      "text/plain": [
       "(1460, 9)"
      ]
     },
     "execution_count": 7,
     "metadata": {},
     "output_type": "execute_result"
    }
   ],
   "source": [
    "# keep only companies in US\n",
    "df = df[df.country == 'United States']\n",
    "df.shape"
   ]
  },
  {
   "cell_type": "code",
   "execution_count": 8,
   "id": "447ee271",
   "metadata": {
    "execution": {
     "iopub.execute_input": "2023-02-20T09:28:20.890146Z",
     "iopub.status.busy": "2023-02-20T09:28:20.889300Z",
     "iopub.status.idle": "2023-02-20T09:28:20.898938Z",
     "shell.execute_reply": "2023-02-20T09:28:20.898016Z"
    },
    "papermill": {
     "duration": 0.020629,
     "end_time": "2023-02-20T09:28:20.901029",
     "exception": false,
     "start_time": "2023-02-20T09:28:20.880400",
     "status": "completed"
    },
    "tags": []
   },
   "outputs": [
    {
     "data": {
      "text/plain": [
       "company                  0\n",
       "location                 0\n",
       "industry                 1\n",
       "total_laid_off         486\n",
       "percentage_laid_off    477\n",
       "date                     0\n",
       "stage                    4\n",
       "country                  0\n",
       "funds_raised           108\n",
       "dtype: int64"
      ]
     },
     "execution_count": 8,
     "metadata": {},
     "output_type": "execute_result"
    }
   ],
   "source": [
    "# check NaN values\n",
    "df.isnull().sum()"
   ]
  },
  {
   "cell_type": "code",
   "execution_count": 9,
   "id": "38196ed0",
   "metadata": {
    "execution": {
     "iopub.execute_input": "2023-02-20T09:28:20.917559Z",
     "iopub.status.busy": "2023-02-20T09:28:20.916592Z",
     "iopub.status.idle": "2023-02-20T09:28:20.927862Z",
     "shell.execute_reply": "2023-02-20T09:28:20.926923Z"
    },
    "papermill": {
     "duration": 0.021975,
     "end_time": "2023-02-20T09:28:20.930039",
     "exception": false,
     "start_time": "2023-02-20T09:28:20.908064",
     "status": "completed"
    },
    "tags": []
   },
   "outputs": [
    {
     "data": {
      "text/plain": [
       "(1455, 9)"
      ]
     },
     "execution_count": 9,
     "metadata": {},
     "output_type": "execute_result"
    }
   ],
   "source": [
    "# drop rows missing industry and stage data\n",
    "df = df[df.industry.notna() & df.stage.notna()]\n",
    "df.shape"
   ]
  },
  {
   "cell_type": "markdown",
   "id": "2d14faf8",
   "metadata": {
    "papermill": {
     "duration": 0.006735,
     "end_time": "2023-02-20T09:28:20.943920",
     "exception": false,
     "start_time": "2023-02-20T09:28:20.937185",
     "status": "completed"
    },
    "tags": []
   },
   "source": [
    "### Which industries are the hardest hit by layoffs?"
   ]
  },
  {
   "cell_type": "code",
   "execution_count": 10,
   "id": "368dc12a",
   "metadata": {
    "execution": {
     "iopub.execute_input": "2023-02-20T09:28:20.960508Z",
     "iopub.status.busy": "2023-02-20T09:28:20.960083Z",
     "iopub.status.idle": "2023-02-20T09:28:20.969098Z",
     "shell.execute_reply": "2023-02-20T09:28:20.967944Z"
    },
    "papermill": {
     "duration": 0.020499,
     "end_time": "2023-02-20T09:28:20.971476",
     "exception": false,
     "start_time": "2023-02-20T09:28:20.950977",
     "status": "completed"
    },
    "tags": []
   },
   "outputs": [
    {
     "data": {
      "text/plain": [
       "29"
      ]
     },
     "execution_count": 10,
     "metadata": {},
     "output_type": "execute_result"
    }
   ],
   "source": [
    "df.industry.nunique()"
   ]
  },
  {
   "cell_type": "code",
   "execution_count": 11,
   "id": "a3a7f477",
   "metadata": {
    "execution": {
     "iopub.execute_input": "2023-02-20T09:28:20.988077Z",
     "iopub.status.busy": "2023-02-20T09:28:20.987647Z",
     "iopub.status.idle": "2023-02-20T09:28:21.307603Z",
     "shell.execute_reply": "2023-02-20T09:28:21.306523Z"
    },
    "papermill": {
     "duration": 0.331121,
     "end_time": "2023-02-20T09:28:21.310059",
     "exception": false,
     "start_time": "2023-02-20T09:28:20.978938",
     "status": "completed"
    },
    "tags": []
   },
   "outputs": [
    {
     "data": {
      "text/plain": [
       "<AxesSubplot:xlabel='total_laid_off', ylabel='industry'>"
      ]
     },
     "execution_count": 11,
     "metadata": {},
     "output_type": "execute_result"
    },
    {
     "data": {
      "image/png": "[encoded data removed]",
      "text/plain": [
       "<Figure size 720x360 with 1 Axes>"
      ]
     },
     "metadata": {},
     "output_type": "display_data"
    }
   ],
   "source": [
    "plt.figure(figsize=(10,5))\n",
    "indsSum = df[['industry', 'total_laid_off']] \\\n",
    "            .groupby('industry', as_index=False).sum() \\\n",
    "            .sort_values(by='total_laid_off', ascending=False)\n",
    "sns.barplot(data=indsSum.iloc[:15], x='total_laid_off', y='industry', palette='BuPu_r')"
   ]
  },
  {
   "cell_type": "code",
   "execution_count": 12,
   "id": "51070aaa",
   "metadata": {
    "execution": {
     "iopub.execute_input": "2023-02-20T09:28:21.328843Z",
     "iopub.status.busy": "2023-02-20T09:28:21.327761Z",
     "iopub.status.idle": "2023-02-20T09:28:21.670520Z",
     "shell.execute_reply": "2023-02-20T09:28:21.669351Z"
    },
    "papermill": {
     "duration": 0.35544,
     "end_time": "2023-02-20T09:28:21.673325",
     "exception": false,
     "start_time": "2023-02-20T09:28:21.317885",
     "status": "completed"
    },
    "tags": []
   },
   "outputs": [
    {
     "data": {
      "text/plain": [
       "<AxesSubplot:xlabel='company', ylabel='industry'>"
      ]
     },
     "execution_count": 12,
     "metadata": {},
     "output_type": "execute_result"
    },
    {
     "data": {
      "image/png": "[encoded data removed]",
      "text/plain": [
       "<Figure size 720x360 with 1 Axes>"
      ]
     },
     "metadata": {},
     "output_type": "display_data"
    }
   ],
   "source": [
    "plt.figure(figsize=(10,5))\n",
    "indsCount = df[['industry', 'company']] \\\n",
    "            .groupby('industry', as_index=False).count() \\\n",
    "            .sort_values(by='company', ascending=False)\n",
    "sns.barplot(data=indsCount.iloc[:15], x='company', y='industry', palette='BuPu_r')"
   ]
  },
  {
   "cell_type": "code",
   "execution_count": 13,
   "id": "e49de1f8",
   "metadata": {
    "execution": {
     "iopub.execute_input": "2023-02-20T09:28:21.694390Z",
     "iopub.status.busy": "2023-02-20T09:28:21.693980Z",
     "iopub.status.idle": "2023-02-20T09:28:21.702883Z",
     "shell.execute_reply": "2023-02-20T09:28:21.701734Z"
    },
    "papermill": {
     "duration": 0.021172,
     "end_time": "2023-02-20T09:28:21.705299",
     "exception": false,
     "start_time": "2023-02-20T09:28:21.684127",
     "status": "completed"
    },
    "tags": []
   },
   "outputs": [
    {
     "data": {
      "text/plain": [
       "['Consumer',\n",
       " 'Retail',\n",
       " 'Transportation',\n",
       " 'Other',\n",
       " 'Finance',\n",
       " 'Real Estate',\n",
       " 'Healthcare',\n",
       " 'Food',\n",
       " 'Marketing',\n",
       " 'Security']"
      ]
     },
     "execution_count": 13,
     "metadata": {},
     "output_type": "execute_result"
    }
   ],
   "source": [
    "[i for i in indsSum.industry[:15] if i in indsCount.industry[:15].tolist()]"
   ]
  },
  {
   "cell_type": "code",
   "execution_count": 14,
   "id": "568f618e",
   "metadata": {
    "execution": {
     "iopub.execute_input": "2023-02-20T09:28:21.724021Z",
     "iopub.status.busy": "2023-02-20T09:28:21.723363Z",
     "iopub.status.idle": "2023-02-20T09:28:22.159556Z",
     "shell.execute_reply": "2023-02-20T09:28:22.158363Z"
    },
    "papermill": {
     "duration": 0.448302,
     "end_time": "2023-02-20T09:28:22.162094",
     "exception": false,
     "start_time": "2023-02-20T09:28:21.713792",
     "status": "completed"
    },
    "tags": []
   },
   "outputs": [
    {
     "data": {
      "text/plain": [
       "Text(0.5, 1.0, 'Layoff Company Counts by Industry')"
      ]
     },
     "execution_count": 14,
     "metadata": {},
     "output_type": "execute_result"
    },
    {
     "data": {
      "image/png": "[encoded data removed]",
      "text/plain": [
       "<Figure size 720x864 with 1 Axes>"
      ]
     },
     "metadata": {},
     "output_type": "display_data"
    }
   ],
   "source": [
    "plt.figure(figsize=(10,12))\n",
    "df.industry.value_counts().plot.barh(colormap='BuPu_r')\n",
    "plt.gca().invert_yaxis()\n",
    "plt.title('Layoff Company Counts by Industry')"
   ]
  },
  {
   "cell_type": "code",
   "execution_count": 15,
   "id": "22697381",
   "metadata": {
    "execution": {
     "iopub.execute_input": "2023-02-20T09:28:22.182065Z",
     "iopub.status.busy": "2023-02-20T09:28:22.181648Z",
     "iopub.status.idle": "2023-02-20T09:28:22.189080Z",
     "shell.execute_reply": "2023-02-20T09:28:22.187786Z"
    },
    "papermill": {
     "duration": 0.020189,
     "end_time": "2023-02-20T09:28:22.191411",
     "exception": false,
     "start_time": "2023-02-20T09:28:22.171222",
     "status": "completed"
    },
    "tags": []
   },
   "outputs": [
    {
     "data": {
      "text/plain": [
       "Index(['company', 'location', 'industry', 'total_laid_off',\n",
       "       'percentage_laid_off', 'date', 'stage', 'country', 'funds_raised'],\n",
       "      dtype='object')"
      ]
     },
     "execution_count": 15,
     "metadata": {},
     "output_type": "execute_result"
    }
   ],
   "source": [
    "df.columns"
   ]
  },
  {
   "cell_type": "code",
   "execution_count": 16,
   "id": "2d88f78a",
   "metadata": {
    "execution": {
     "iopub.execute_input": "2023-02-20T09:28:22.211413Z",
     "iopub.status.busy": "2023-02-20T09:28:22.211020Z",
     "iopub.status.idle": "2023-02-20T09:28:22.588589Z",
     "shell.execute_reply": "2023-02-20T09:28:22.587697Z"
    },
    "papermill": {
     "duration": 0.390333,
     "end_time": "2023-02-20T09:28:22.590954",
     "exception": false,
     "start_time": "2023-02-20T09:28:22.200621",
     "status": "completed"
    },
    "tags": []
   },
   "outputs": [
    {
     "data": {
      "image/png": "[encoded data removed]",
      "text/plain": [
       "<Figure size 720x576 with 1 Axes>"
      ]
     },
     "metadata": {},
     "output_type": "display_data"
    }
   ],
   "source": [
    "top10inds = df.industry.value_counts().index[:10]\n",
    "\n",
    "q_low = df[\"percentage_laid_off\"].quantile(0.01)\n",
    "q_hi  = df[\"percentage_laid_off\"].quantile(0.99)\n",
    "df_filtered = df[(df[\"percentage_laid_off\"] < q_hi) & (df[\"percentage_laid_off\"] > q_low)]\n",
    "\n",
    "plt.figure(figsize=(10,8))\n",
    "ax = sns.boxplot(x=\"percentage_laid_off\", y=\"industry\", data=df_filtered, order=top10inds, palette='BuPu_r')"
   ]
  },
  {
   "cell_type": "code",
   "execution_count": 17,
   "id": "a6f6fe10",
   "metadata": {
    "execution": {
     "iopub.execute_input": "2023-02-20T09:28:22.613971Z",
     "iopub.status.busy": "2023-02-20T09:28:22.611814Z",
     "iopub.status.idle": "2023-02-20T09:28:22.978955Z",
     "shell.execute_reply": "2023-02-20T09:28:22.977724Z"
    },
    "papermill": {
     "duration": 0.380966,
     "end_time": "2023-02-20T09:28:22.981734",
     "exception": false,
     "start_time": "2023-02-20T09:28:22.600768",
     "status": "completed"
    },
    "tags": []
   },
   "outputs": [
    {
     "data": {
      "image/png": "[encoded data removed]",
      "text/plain": [
       "<Figure size 720x576 with 1 Axes>"
      ]
     },
     "metadata": {},
     "output_type": "display_data"
    }
   ],
   "source": [
    "q_low = df[\"total_laid_off\"].quantile(0.05)\n",
    "q_hi  = df[\"total_laid_off\"].quantile(0.95)\n",
    "df_filtered = df[(df[\"total_laid_off\"] < q_hi) & (df[\"total_laid_off\"] > q_low)]\n",
    "\n",
    "plt.figure(figsize=(10,8))\n",
    "ax = sns.boxplot(x=\"total_laid_off\", y=\"industry\", data=df_filtered, order=top10inds, palette='BuPu_r')"
   ]
  },
  {
   "cell_type": "markdown",
   "id": "201ac450",
   "metadata": {
    "papermill": {
     "duration": 0.009932,
     "end_time": "2023-02-20T09:28:23.001890",
     "exception": false,
     "start_time": "2023-02-20T09:28:22.991958",
     "status": "completed"
    },
    "tags": []
   },
   "source": [
    "### What is the financing status of companies with a high percentage of layoffs?"
   ]
  },
  {
   "cell_type": "code",
   "execution_count": 18,
   "id": "1009794d",
   "metadata": {
    "execution": {
     "iopub.execute_input": "2023-02-20T09:28:23.025405Z",
     "iopub.status.busy": "2023-02-20T09:28:23.024782Z",
     "iopub.status.idle": "2023-02-20T09:28:23.034754Z",
     "shell.execute_reply": "2023-02-20T09:28:23.033603Z"
    },
    "papermill": {
     "duration": 0.0244,
     "end_time": "2023-02-20T09:28:23.036982",
     "exception": false,
     "start_time": "2023-02-20T09:28:23.012582",
     "status": "completed"
    },
    "tags": []
   },
   "outputs": [
    {
     "data": {
      "text/plain": [
       "(0.1, 0.3)"
      ]
     },
     "execution_count": 18,
     "metadata": {},
     "output_type": "execute_result"
    }
   ],
   "source": [
    "df[\"percentage_laid_off\"].quantile(0.25), df[\"percentage_laid_off\"].quantile(0.75)"
   ]
  },
  {
   "cell_type": "code",
   "execution_count": 19,
   "id": "79b3b54f",
   "metadata": {
    "execution": {
     "iopub.execute_input": "2023-02-20T09:28:23.060083Z",
     "iopub.status.busy": "2023-02-20T09:28:23.059469Z",
     "iopub.status.idle": "2023-02-20T09:28:23.069369Z",
     "shell.execute_reply": "2023-02-20T09:28:23.068208Z"
    },
    "papermill": {
     "duration": 0.024146,
     "end_time": "2023-02-20T09:28:23.071679",
     "exception": false,
     "start_time": "2023-02-20T09:28:23.047533",
     "status": "completed"
    },
    "tags": []
   },
   "outputs": [
    {
     "data": {
      "text/plain": [
       "Series B          58\n",
       "Unknown           38\n",
       "Series C          31\n",
       "Series A          30\n",
       "Post-IPO          21\n",
       "Seed              18\n",
       "Series D          17\n",
       "Acquired          14\n",
       "Series E          12\n",
       "Series F           4\n",
       "Private Equity     3\n",
       "Series H           2\n",
       "Series G           1\n",
       "Name: stage, dtype: int64"
      ]
     },
     "execution_count": 19,
     "metadata": {},
     "output_type": "execute_result"
    }
   ],
   "source": [
    "hRateCompn = df[df.percentage_laid_off >= 0.3]\n",
    "hRateCompn.stage.value_counts()"
   ]
  },
  {
   "cell_type": "markdown",
   "id": "8aa02e16",
   "metadata": {
    "papermill": {
     "duration": 0.010299,
     "end_time": "2023-02-20T09:28:23.092677",
     "exception": false,
     "start_time": "2023-02-20T09:28:23.082378",
     "status": "completed"
    },
    "tags": []
   },
   "source": [
    "### In which regions are the companies with high layoff ratios located?"
   ]
  },
  {
   "cell_type": "code",
   "execution_count": 20,
   "id": "4d85d1be",
   "metadata": {
    "execution": {
     "iopub.execute_input": "2023-02-20T09:28:23.116230Z",
     "iopub.status.busy": "2023-02-20T09:28:23.115159Z",
     "iopub.status.idle": "2023-02-20T09:28:23.124584Z",
     "shell.execute_reply": "2023-02-20T09:28:23.123468Z"
    },
    "papermill": {
     "duration": 0.024148,
     "end_time": "2023-02-20T09:28:23.127249",
     "exception": false,
     "start_time": "2023-02-20T09:28:23.103101",
     "status": "completed"
    },
    "tags": []
   },
   "outputs": [
    {
     "data": {
      "text/plain": [
       "SF Bay Area        99\n",
       "New York City      45\n",
       "Los Angeles        20\n",
       "Boston             19\n",
       "Seattle            12\n",
       "Austin              6\n",
       "Chicago             4\n",
       "Portland            4\n",
       "Washington D.C.     3\n",
       "Columbus            3\n",
       "Name: location, dtype: int64"
      ]
     },
     "execution_count": 20,
     "metadata": {},
     "output_type": "execute_result"
    }
   ],
   "source": [
    "hRateCompn.location.value_counts()[:10]"
   ]
  },
  {
   "cell_type": "markdown",
   "id": "6a3219e6",
   "metadata": {
    "papermill": {
     "duration": 0.010668,
     "end_time": "2023-02-20T09:28:23.148910",
     "exception": false,
     "start_time": "2023-02-20T09:28:23.138242",
     "status": "completed"
    },
    "tags": []
   },
   "source": [
    "### What are the future trends of the layoff wave?"
   ]
  },
  {
   "cell_type": "code",
   "execution_count": null,
   "id": "e687a5bd",
   "metadata": {
    "papermill": {
     "duration": 0.01065,
     "end_time": "2023-02-20T09:28:23.170529",
     "exception": false,
     "start_time": "2023-02-20T09:28:23.159879",
     "status": "completed"
    },
    "tags": []
   },
   "outputs": [],
   "source": []
  },
  {
   "cell_type": "markdown",
   "id": "442f3aa9",
   "metadata": {
    "papermill": {
     "duration": 0.011322,
     "end_time": "2023-02-20T09:28:23.193523",
     "exception": false,
     "start_time": "2023-02-20T09:28:23.182201",
     "status": "completed"
    },
    "tags": []
   },
   "source": [
    "### Has the wave of layoffs reached or passed its peak?"
   ]
  },
  {
   "cell_type": "code",
   "execution_count": null,
   "id": "f8f0db84",
   "metadata": {
    "papermill": {
     "duration": 0.010283,
     "end_time": "2023-02-20T09:28:23.214776",
     "exception": false,
     "start_time": "2023-02-20T09:28:23.204493",
     "status": "completed"
    },
    "tags": []
   },
   "outputs": [],
   "source": []
  }
 ],
 "metadata": {
  "kernelspec": {
   "display_name": "Python 3",
   "language": "python",
   "name": "python3"
  },
  "language_info": {
   "codemirror_mode": {
    "name": "ipython",
    "version": 3
   },
   "file_extension": ".py",
   "mimetype": "text/x-python",
   "name": "python",
   "nbconvert_exporter": "python",
   "pygments_lexer": "ipython3",
   "version": "3.7.12"
  },
  "papermill": {
   "default_parameters": {},
   "duration": 14.121995,
   "end_time": "2023-02-20T09:28:23.948274",
   "environment_variables": {},
   "exception": null,
   "input_path": "__notebook__.ipynb",
   "output_path": "__notebook__.ipynb",
   "parameters": {},
   "start_time": "2023-02-20T09:28:09.826279",
   "version": "2.3.4"
  }
 },
 "nbformat": 4,
 "nbformat_minor": 5
}
